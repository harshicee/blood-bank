{
 "cells": [
  {
   "cell_type": "code",
   "execution_count": null,
   "metadata": {},
   "outputs": [],
   "source": [
    "from tkinter import *\n",
    "import tkinter as tk\n",
    "def donordata():\n",
    "donor_name = name_entry.get()\n",
    "donor_age = age_entry.get()\n",
    "donor_blood_group = bg_entry.get()\n",
    "donor_contact = contact_entry.get()\n",
    "donor_address = address_entry.get()\n",
    "with open(\"donor_data.txt\", \"a\") as f:\n",
    "f.write(f\"{donor_name}, {donor_age}, {donor_blood_group}, {donor_contact}, {donor_address}\\n\")\n",
    "name_entry.delete(0, END)\n",
    "age_entry.delete(0, END)\n",
    "bg_entry.delete(0, END)\n",
    "contact_entry.delete(0, END)\n",
    "address_entry.delete(0,\n",
    "END)\n",
    "def displaydata():\n",
    "with open(\"donor_data.txt\", \"r\") as f:\n",
    "data = f.read() if len(data) == 0:\n",
    "messagebox.showinfo(\"No Data\", \"No data available\") else:\n",
    "messagebox.showinfo(\"Donor Data\", data)\n",
    "window = Tk() window.geometry(\"800x500\")\n",
    "window.title(\"Blood Bank Management System\")\n",
    "title_label = Label(window, text=\"Blood Bank Management System\", font=(\"Arial Bold\", 20))\n",
    "title_label.pack()\n",
    "name_label = Label(window, text=\"Name:\", font=(\"Arial Bold\", 12))\n",
    "name_label.place(x=50, y=70)\n",
    "name_entry = Entry(window, width=30)\n",
    "name_entry.place(x=200, y=70)\n",
    "age_label = Label(window, text=\"Age:\", font=(\"Arial Bold\", 12)) age_label.place(x=50,\n",
    "y=120)\n",
    "age_entry = Entry(window, width=30)\n",
    "age_entry.place(x=200, y=120)\n",
    "bg_label = Label(window, text=\"Blood Group:\", font=(\"Arial Bold\", 12))\n",
    "bg_label.place(x=50, y=170)\n",
    "bg_entry = Entry(window, width=30)\n",
    "bg_entry.place(x=200, y=170)\n",
    "contact_label = Label(window, text=\"Contact No:\", font=(\"Arial Bold\", 12))\n",
    "contact_label.place(x=50, y=220)\n",
    "contact_entry = Entry(window, width=30)\n",
    "contact_entry.place(x=200, y=220)\n",
    "address_label = Label(window, text=\"Address:\", font=(\"Arial Bold\", 12))\n",
    "address_label.place(x=50, y=270)\n",
    "address_entry = Entry(window, width=30) address_entry.place(x=200,\n",
    "y=270)\n",
    "add_button = Button(window, text=\"Add Donor\", command=donordata)\n",
    "add_button.place(x=150, y=350)\n",
    "display_button = Button(window, text=\"Display Donors\", command=displaydata)\n",
    "display_button.place(x=300, y=350)\n",
    "window.mainloop()"
   ]
  }
 ],
 "metadata": {
  "language_info": {
   "name": "python"
  }
 },
 "nbformat": 4,
 "nbformat_minor": 2
}
